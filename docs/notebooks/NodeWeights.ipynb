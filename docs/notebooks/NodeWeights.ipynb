{
 "cells": [
  {
   "cell_type": "markdown",
   "metadata": {},
   "source": [
    "# Calculate Node Weights\n",
    "Calculate the relative weight (popularity) of every node in a boundary polygon in an effort to find possible starting points for routing."
   ]
  },
  {
   "cell_type": "code",
   "execution_count": 26,
   "metadata": {
    "ExecuteTime": {
     "end_time": "2019-04-25T18:48:02.471964Z",
     "start_time": "2019-04-25T18:48:02.468573Z"
    }
   },
   "outputs": [],
   "source": [
    "import geopandas as gpd\n",
    "import pandas as pd\n",
    "import psycopg2\n",
    "from sqlalchemy import create_engine"
   ]
  },
  {
   "cell_type": "code",
   "execution_count": 27,
   "metadata": {
    "ExecuteTime": {
     "end_time": "2019-04-25T18:48:02.990107Z",
     "start_time": "2019-04-25T18:48:02.977015Z"
    }
   },
   "outputs": [],
   "source": [
    "# database connections\n",
    "src_conn = psycopg2.connect(database='stc', user='postgres', password='postgres', host='localhost')\n",
    "dest_conn = create_engine('sqlite:///seq.db')"
   ]
  },
  {
   "cell_type": "code",
   "execution_count": 28,
   "metadata": {
    "ExecuteTime": {
     "end_time": "2019-04-25T18:48:03.501253Z",
     "start_time": "2019-04-25T18:48:03.497327Z"
    }
   },
   "outputs": [],
   "source": [
    "# layer info\n",
    "parent_uid = 'lu_uid'\n",
    "parent_layer = 'lu'"
   ]
  },
  {
   "cell_type": "code",
   "execution_count": 32,
   "metadata": {
    "ExecuteTime": {
     "end_time": "2019-04-25T18:49:07.934467Z",
     "start_time": "2019-04-25T18:49:04.839542Z"
    }
   },
   "outputs": [],
   "source": [
    "sql = \"SELECT {}, geom FROM {}\".format(parent_uid, parent_layer)\n",
    "pgeo = gpd.GeoDataFrame.from_postgis(sql, src_conn)\n",
    "\n",
    "# pull out the nodes in the polygons\n",
    "pgeo['coords'] = pgeo.geometry.boundary.apply(lambda x: x[0].coords)\n",
    "sp = pgeo[[parent_uid, 'coords']]\n",
    "d = []\n",
    "for r in sp.iterrows():\n",
    "    k = r[1][0]\n",
    "    v = r[1][1]\n",
    "    for i in v:\n",
    "        d.append((k,i))\n",
    "coord_pop = pd.DataFrame(d, columns=[parent_uid, 'node'])\n",
    "\n",
    "coord_pop['weight'] = coord_pop.groupby(['node'])[parent_uid].transform('count')\n",
    "coord_pop.drop_duplicates('node', inplace=True)"
   ]
  },
  {
   "cell_type": "code",
   "execution_count": 36,
   "metadata": {
    "ExecuteTime": {
     "end_time": "2019-04-25T18:49:51.125558Z",
     "start_time": "2019-04-25T18:49:51.062986Z"
    }
   },
   "outputs": [
    {
     "data": {
      "text/html": [
       "<div>\n",
       "<style scoped>\n",
       "    .dataframe tbody tr th:only-of-type {\n",
       "        vertical-align: middle;\n",
       "    }\n",
       "\n",
       "    .dataframe tbody tr th {\n",
       "        vertical-align: top;\n",
       "    }\n",
       "\n",
       "    .dataframe thead th {\n",
       "        text-align: right;\n",
       "    }\n",
       "</style>\n",
       "<table border=\"1\" class=\"dataframe\">\n",
       "  <thead>\n",
       "    <tr style=\"text-align: right;\">\n",
       "      <th></th>\n",
       "      <th>lu_uid</th>\n",
       "      <th>node</th>\n",
       "      <th>weight</th>\n",
       "    </tr>\n",
       "  </thead>\n",
       "  <tbody>\n",
       "    <tr>\n",
       "      <th>528915</th>\n",
       "      <td>68768</td>\n",
       "      <td>(4037253.822900001, 1995076.8000000007)</td>\n",
       "      <td>3</td>\n",
       "    </tr>\n",
       "    <tr>\n",
       "      <th>453775</th>\n",
       "      <td>46819</td>\n",
       "      <td>(5821987.614299998, 1541556.8456999995)</td>\n",
       "      <td>4</td>\n",
       "    </tr>\n",
       "    <tr>\n",
       "      <th>150894</th>\n",
       "      <td>15960</td>\n",
       "      <td>(7627326.554300003, 1242333.6086000018)</td>\n",
       "      <td>4</td>\n",
       "    </tr>\n",
       "    <tr>\n",
       "      <th>285169</th>\n",
       "      <td>21911</td>\n",
       "      <td>(7121664.748599999, 2355353.8143000007)</td>\n",
       "      <td>4</td>\n",
       "    </tr>\n",
       "    <tr>\n",
       "      <th>404099</th>\n",
       "      <td>34244</td>\n",
       "      <td>(7203814.380000003, 905525.8200000003)</td>\n",
       "      <td>4</td>\n",
       "    </tr>\n",
       "  </tbody>\n",
       "</table>\n",
       "</div>"
      ],
      "text/plain": [
       "        lu_uid                                     node  weight\n",
       "528915   68768  (4037253.822900001, 1995076.8000000007)       3\n",
       "453775   46819  (5821987.614299998, 1541556.8456999995)       4\n",
       "150894   15960  (7627326.554300003, 1242333.6086000018)       4\n",
       "285169   21911  (7121664.748599999, 2355353.8143000007)       4\n",
       "404099   34244   (7203814.380000003, 905525.8200000003)       4"
      ]
     },
     "execution_count": 36,
     "metadata": {},
     "output_type": "execute_result"
    }
   ],
   "source": [
    "coord_pop.sort_values('weight').tail()"
   ]
  },
  {
   "cell_type": "code",
   "execution_count": 37,
   "metadata": {
    "ExecuteTime": {
     "end_time": "2019-04-25T18:49:59.680527Z",
     "start_time": "2019-04-25T18:49:59.665999Z"
    }
   },
   "outputs": [
    {
     "data": {
      "text/plain": [
       "1    563545\n",
       "2     22994\n",
       "3       195\n",
       "4         4\n",
       "Name: weight, dtype: int64"
      ]
     },
     "execution_count": 37,
     "metadata": {},
     "output_type": "execute_result"
    }
   ],
   "source": [
    "coord_pop['weight'].value_counts()"
   ]
  },
  {
   "cell_type": "code",
   "execution_count": 12,
   "metadata": {
    "ExecuteTime": {
     "end_time": "2019-04-25T13:09:49.905424Z",
     "start_time": "2019-04-25T13:09:49.898287Z"
    }
   },
   "outputs": [
    {
     "data": {
      "text/plain": [
       "lu_uid     int64\n",
       "node      object\n",
       "weight     int64\n",
       "dtype: object"
      ]
     },
     "execution_count": 12,
     "metadata": {},
     "output_type": "execute_result"
    }
   ],
   "source": [
    "coord_pop.dtypes"
   ]
  },
  {
   "cell_type": "code",
   "execution_count": 38,
   "metadata": {
    "ExecuteTime": {
     "end_time": "2019-04-25T18:50:16.466901Z",
     "start_time": "2019-04-25T18:50:15.216048Z"
    }
   },
   "outputs": [],
   "source": [
    "coord_pop['node'] = coord_pop['node'].astype(str)"
   ]
  },
  {
   "cell_type": "code",
   "execution_count": 39,
   "metadata": {
    "ExecuteTime": {
     "end_time": "2019-04-25T18:50:20.429908Z",
     "start_time": "2019-04-25T18:50:16.469539Z"
    }
   },
   "outputs": [],
   "source": [
    "# write it all to sqlite for reference by later steps\n",
    "coord_pop.to_sql('node_weights', con=dest_conn, if_exists='replace', index=False)"
   ]
  },
  {
   "cell_type": "code",
   "execution_count": null,
   "metadata": {},
   "outputs": [],
   "source": []
  }
 ],
 "metadata": {
  "kernelspec": {
   "display_name": "Python 3",
   "language": "python",
   "name": "python3"
  },
  "language_info": {
   "codemirror_mode": {
    "name": "ipython",
    "version": 3
   },
   "file_extension": ".py",
   "mimetype": "text/x-python",
   "name": "python",
   "nbconvert_exporter": "python",
   "pygments_lexer": "ipython3",
   "version": "3.6.7"
  }
 },
 "nbformat": 4,
 "nbformat_minor": 2
}
