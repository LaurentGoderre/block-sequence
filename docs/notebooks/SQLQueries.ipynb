{
 "cells": [
  {
   "cell_type": "markdown",
   "metadata": {},
   "source": [
    "# Query Tests\n",
    "Just trying out sqlalchemy to get the right results back"
   ]
  },
  {
   "cell_type": "code",
   "execution_count": 59,
   "metadata": {
    "ExecuteTime": {
     "end_time": "2019-04-25T19:46:10.523164Z",
     "start_time": "2019-04-25T19:46:10.518016Z"
    }
   },
   "outputs": [],
   "source": [
    "from sqlalchemy import create_engine, MetaData, Table\n",
    "from sqlalchemy.sql import select\n",
    "# needed to convert between the database strings returned and the tuple required for a node\n",
    "from ast import literal_eval"
   ]
  },
  {
   "cell_type": "code",
   "execution_count": 40,
   "metadata": {
    "ExecuteTime": {
     "end_time": "2019-04-25T18:50:29.607745Z",
     "start_time": "2019-04-25T18:50:29.602002Z"
    }
   },
   "outputs": [],
   "source": [
    "engine = create_engine('sqlite:///seq.db')"
   ]
  },
  {
   "cell_type": "code",
   "execution_count": 42,
   "metadata": {
    "ExecuteTime": {
     "end_time": "2019-04-25T18:50:35.468646Z",
     "start_time": "2019-04-25T18:50:35.452977Z"
    }
   },
   "outputs": [
    {
     "data": {
      "text/plain": [
       "['lu_uid', 'node', 'weight']"
      ]
     },
     "execution_count": 42,
     "metadata": {},
     "output_type": "execute_result"
    }
   ],
   "source": [
    "meta = MetaData()\n",
    "node_weights = Table('node_weights', meta, autoload=True, autoload_with=engine)\n",
    "[c.name for c in node_weights.columns]"
   ]
  },
  {
   "cell_type": "code",
   "execution_count": 43,
   "metadata": {
    "ExecuteTime": {
     "end_time": "2019-04-25T18:50:37.414494Z",
     "start_time": "2019-04-25T18:50:37.409331Z"
    }
   },
   "outputs": [],
   "source": [
    "# Get the most popular nodes from node_weights for a given LU\n",
    "pg_uid = 648\n",
    "pg_nodes = select([node_weights]).where(node_weights.c.lu_uid == pg_uid).order_by(node_weights.c.weight.desc()).limit(5)"
   ]
  },
  {
   "cell_type": "code",
   "execution_count": 44,
   "metadata": {
    "ExecuteTime": {
     "end_time": "2019-04-25T18:50:38.117868Z",
     "start_time": "2019-04-25T18:50:38.060231Z"
    }
   },
   "outputs": [
    {
     "name": "stdout",
     "output_type": "stream",
     "text": [
      "(648, '(8772581.8314, 2055807.4400000013)', 2)\n",
      "(648, '(8772615.5229, 2055844.705699999)', 1)\n",
      "(648, '(8772742.159999996, 2056045.3456999995)', 1)\n",
      "(648, '(8772778.482900001, 2056093.6686000004)', 1)\n",
      "(648, '(8772820.411399998, 2056134.808600001)', 1)\n"
     ]
    }
   ],
   "source": [
    "conn = engine.connect()\n",
    "for row in conn.execute(pg_nodes):\n",
    "    print(row)"
   ]
  },
  {
   "cell_type": "code",
   "execution_count": 52,
   "metadata": {
    "ExecuteTime": {
     "end_time": "2019-04-25T19:43:31.278980Z",
     "start_time": "2019-04-25T19:43:31.274525Z"
    }
   },
   "outputs": [],
   "source": [
    "t = row[1]"
   ]
  },
  {
   "cell_type": "code",
   "execution_count": 60,
   "metadata": {
    "ExecuteTime": {
     "end_time": "2019-04-25T19:46:13.541787Z",
     "start_time": "2019-04-25T19:46:13.535914Z"
    }
   },
   "outputs": [
    {
     "data": {
      "text/plain": [
       "(8772820.411399998, 2056134.808600001)"
      ]
     },
     "execution_count": 60,
     "metadata": {},
     "output_type": "execute_result"
    }
   ],
   "source": [
    "literal_eval(t)"
   ]
  },
  {
   "cell_type": "code",
   "execution_count": null,
   "metadata": {},
   "outputs": [],
   "source": []
  }
 ],
 "metadata": {
  "kernelspec": {
   "display_name": "Python 3",
   "language": "python",
   "name": "python3"
  },
  "language_info": {
   "codemirror_mode": {
    "name": "ipython",
    "version": 3
   },
   "file_extension": ".py",
   "mimetype": "text/x-python",
   "name": "python",
   "nbconvert_exporter": "python",
   "pygments_lexer": "ipython3",
   "version": "3.6.7"
  }
 },
 "nbformat": 4,
 "nbformat_minor": 2
}
